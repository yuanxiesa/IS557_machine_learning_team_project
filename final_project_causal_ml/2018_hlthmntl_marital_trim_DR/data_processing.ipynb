{
 "cells": [
  {
   "cell_type": "code",
   "id": "initial_id",
   "metadata": {
    "collapsed": true,
    "ExecuteTime": {
     "end_time": "2024-05-11T20:57:59.769738Z",
     "start_time": "2024-05-11T20:57:59.765889Z"
    }
   },
   "source": "import pandas as pd",
   "outputs": [],
   "execution_count": 5
  },
  {
   "metadata": {
    "ExecuteTime": {
     "end_time": "2024-05-11T20:58:01.031459Z",
     "start_time": "2024-05-11T20:57:59.773748Z"
    }
   },
   "cell_type": "code",
   "source": "df = pd.read_stata(\"../data/gss2020panel_r1a.dta\", convert_categoricals=False)",
   "id": "644079eefd92b338",
   "outputs": [
    {
     "name": "stderr",
     "output_type": "stream",
     "text": [
      "C:\\Users\\yuanx\\AppData\\Local\\Temp\\ipykernel_980\\1295668150.py:1: UnicodeWarning: \n",
      "One or more strings in the dta file could not be decoded using utf-8, and\n",
      "so the fallback encoding of latin-1 is being used.  This can happen when a file\n",
      "has been incorrectly encoded by Stata or some other software. You should verify\n",
      "the string values returned are correct.\n",
      "  df = pd.read_stata(\"../data/gss2020panel_r1a.dta\", convert_categoricals=False)\n"
     ]
    }
   ],
   "execution_count": 6
  },
  {
   "metadata": {
    "ExecuteTime": {
     "end_time": "2024-05-11T20:58:01.438961Z",
     "start_time": "2024-05-11T20:58:01.033472Z"
    }
   },
   "cell_type": "code",
   "source": [
    "# select 2028 data\n",
    "df_2018 = df[df['samptype'] == 2018].copy()\n",
    "# select variables\n",
    "col_list = ['marital_1b', 'hlthmntl_1b', 'degree_1b', 'satfin_1b', 'neisafe_1b', 'relpersn_1b', 'race_1b']\n",
    "df_2018_sub = df_2018[col_list].copy()\n",
    "# drop rows that have any NA\n",
    "df_2018_sub = df_2018_sub.dropna(how='any')\n",
    "# # only keep married (marital == 1) and never married (marital == 5)\n",
    "df_2018_sub = df_2018_sub.loc[df_2018_sub['marital_1b'].isin([1,5])]\n",
    "# rename columns to remove suffix\n",
    "col_dict = {x: x.split('_')[0] for x in list(df_2018_sub.columns)}\n",
    "df_2018_sub.rename(columns=col_dict, inplace=True)\n",
    "df_2018_sub['marital'] = df_2018_sub['marital'].apply(lambda x: 1 if x == 1 else 0)\n",
    "# one-hot encoding race variable\n",
    "df_2018_sub['race_is_white'] = df_2018_sub['race'].isin([1])\n",
    "df_2018_sub['race_is_black'] = df_2018_sub['race'].isin([2])\n",
    "df_2018_sub['race_is_other'] = df_2018_sub['race'].isin([3])\n",
    "df_2018_sub.drop(columns=['race'], inplace=True)\n",
    "df_2018_sub.to_csv(path_or_buf='data_2018_hlthmntl_marital_trim.csv', index=False)"
   ],
   "id": "dddb28778868861c",
   "outputs": [],
   "execution_count": 7
  },
  {
   "metadata": {
    "ExecuteTime": {
     "end_time": "2024-05-11T20:58:01.451410Z",
     "start_time": "2024-05-11T20:58:01.442974Z"
    }
   },
   "cell_type": "code",
   "source": "df_2018_sub.shape",
   "id": "8132e64b31449ded",
   "outputs": [
    {
     "data": {
      "text/plain": [
       "(1633, 9)"
      ]
     },
     "execution_count": 8,
     "metadata": {},
     "output_type": "execute_result"
    }
   ],
   "execution_count": 8
  }
 ],
 "metadata": {
  "kernelspec": {
   "display_name": "Python 3",
   "language": "python",
   "name": "python3"
  },
  "language_info": {
   "codemirror_mode": {
    "name": "ipython",
    "version": 2
   },
   "file_extension": ".py",
   "mimetype": "text/x-python",
   "name": "python",
   "nbconvert_exporter": "python",
   "pygments_lexer": "ipython2",
   "version": "2.7.6"
  }
 },
 "nbformat": 4,
 "nbformat_minor": 5
}
